{
 "cells": [
  {
   "cell_type": "code",
   "execution_count": 13,
   "id": "553da417",
   "metadata": {},
   "outputs": [
    {
     "name": "stderr",
     "output_type": "stream",
     "text": [
      "2025-09-09 15:54:57,754 - INFO - detected formats: [<InputFormat.PPTX: 'pptx'>]\n",
      "2025-09-09 15:54:57,764 - INFO - Going to convert document batch...\n",
      "2025-09-09 15:54:57,765 - INFO - Initializing pipeline for SimplePipeline with options hash 64efdeb459220d9bbf631bfc20c2d4cd\n",
      "2025-09-09 15:54:57,765 - INFO - Processing document KAIDO.pptx\n",
      "2025-09-09 15:54:57,933 - INFO - Finished converting document KAIDO.pptx in 0.17 sec.\n"
     ]
    }
   ],
   "source": [
    "from docling.document_converter import DocumentConverter\n",
    "\n",
    "source = \"C:/Users/sarojd/AZURE/deployDocPortalDemo/data/KAIDO.pptx\"  # can be .pdf, .docx, .xlsx\n",
    "converter = DocumentConverter()\n",
    "doc = converter.convert(source).document\n",
    "\n",
    "# Export to different formats depending on your RAG needs\n",
    "text_md = doc.export_to_markdown()\n",
    "\n",
    "#print(text_md)\n"
   ]
  },
  {
   "cell_type": "code",
   "execution_count": null,
   "id": "de02489c",
   "metadata": {},
   "outputs": [],
   "source": [
    "print(text_md)\n",
    "from langchain.schema import Document\n",
    "\n",
    "# Create a single LangChain Document\n",
    "lc_doc = Document(page_content=text_md, metadata={\"source\": source})\n"
   ]
  },
  {
   "cell_type": "code",
   "execution_count": null,
   "id": "c59eed01",
   "metadata": {},
   "outputs": [],
   "source": [
    "from docling.document_converter import DocumentConverter\n",
    "\n",
    "doc = DocumentConverter().convert(\"C:/Users/sarojd/AZURE/deployDocPortalDemo/data/Build report 1912.docx\").document\n",
    "\n",
    "# Each image is stored in resources\n",
    "for i, img in enumerate(doc.resources.images):\n",
    "    with open(f\"image_{i}.png\", \"wb\") as f:\n",
    "        f.write(img.data)\n"
   ]
  },
  {
   "cell_type": "code",
   "execution_count": null,
   "id": "5939e87b",
   "metadata": {},
   "outputs": [],
   "source": []
  }
 ],
 "metadata": {
  "kernelspec": {
   "display_name": "azure",
   "language": "python",
   "name": "python3"
  },
  "language_info": {
   "codemirror_mode": {
    "name": "ipython",
    "version": 3
   },
   "file_extension": ".py",
   "mimetype": "text/x-python",
   "name": "python",
   "nbconvert_exporter": "python",
   "pygments_lexer": "ipython3",
   "version": "3.12.0"
  }
 },
 "nbformat": 4,
 "nbformat_minor": 5
}
