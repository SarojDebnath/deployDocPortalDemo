{
 "cells": [
  {
   "cell_type": "code",
   "execution_count": null,
   "id": "89972289",
   "metadata": {},
   "outputs": [],
   "source": [
    "from langchain_openai import AzureOpenAIEmbeddings\n",
    "from dotenv import load_dotenv\n",
    "load_dotenv()\n",
    "import os\n",
    "embeddings = AzureOpenAIEmbeddings(\n",
    "    deployment=\"text-embedding-ada-002\",   # 👈 Your Azure deployment name\n",
    "    model=\"text-embedding-ada-002\",        # 👈 Underlying model (optional, but helps clarity)\n",
    "    azure_endpoint=\"endpoint\",\n",
    "    api_key=\"apikey\",\n",
    "    openai_api_version=\"version\"\n",
    ")\n",
    "\n"
   ]
  },
  {
   "cell_type": "code",
   "execution_count": 2,
   "id": "4f20a619",
   "metadata": {},
   "outputs": [
    {
     "name": "stdout",
     "output_type": "stream",
     "text": [
      "[0.007466733921319246, -0.02314082905650139, 0.0017334839794784784, -0.03497575595974922, -0.0196946\n"
     ]
    }
   ],
   "source": [
    "single_vector = embeddings.embed_query(\"check\")\n",
    "print(str(single_vector)[:100])  # Show the first 100 characters of the vector"
   ]
  },
  {
   "cell_type": "code",
   "execution_count": null,
   "id": "964637ef",
   "metadata": {},
   "outputs": [],
   "source": []
  }
 ],
 "metadata": {
  "kernelspec": {
   "display_name": "azure",
   "language": "python",
   "name": "python3"
  },
  "language_info": {
   "codemirror_mode": {
    "name": "ipython",
    "version": 3
   },
   "file_extension": ".py",
   "mimetype": "text/x-python",
   "name": "python",
   "nbconvert_exporter": "python",
   "pygments_lexer": "ipython3",
   "version": "3.12.0"
  }
 },
 "nbformat": 4,
 "nbformat_minor": 5
}
